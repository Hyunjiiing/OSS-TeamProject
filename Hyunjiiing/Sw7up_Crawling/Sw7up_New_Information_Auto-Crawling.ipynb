{
 "cells": [
  {
   "cell_type": "code",
   "execution_count": 1,
   "metadata": {},
   "outputs": [
    {
     "name": "stdout",
     "output_type": "stream",
     "text": [
      "Requirement already satisfied: selenium in c:\\users\\samsung\\anaconda3\\lib\\site-packages (4.6.0)\n",
      "Requirement already satisfied: certifi>=2021.10.8 in c:\\users\\samsung\\anaconda3\\lib\\site-packages (from selenium) (2021.10.8)\n",
      "Requirement already satisfied: trio~=0.17 in c:\\users\\samsung\\anaconda3\\lib\\site-packages (from selenium) (0.22.0)\n",
      "Requirement already satisfied: urllib3[socks]~=1.26 in c:\\users\\samsung\\anaconda3\\lib\\site-packages (from selenium) (1.26.9)\n",
      "Requirement already satisfied: trio-websocket~=0.9 in c:\\users\\samsung\\anaconda3\\lib\\site-packages (from selenium) (0.9.2)\n",
      "Requirement already satisfied: idna in c:\\users\\samsung\\anaconda3\\lib\\site-packages (from trio~=0.17->selenium) (3.3)\n",
      "Requirement already satisfied: outcome in c:\\users\\samsung\\anaconda3\\lib\\site-packages (from trio~=0.17->selenium) (1.2.0)\n",
      "Requirement already satisfied: async-generator>=1.9 in c:\\users\\samsung\\anaconda3\\lib\\site-packages (from trio~=0.17->selenium) (1.10)\n",
      "Requirement already satisfied: attrs>=19.2.0 in c:\\users\\samsung\\anaconda3\\lib\\site-packages (from trio~=0.17->selenium) (21.4.0)\n",
      "Requirement already satisfied: sniffio in c:\\users\\samsung\\anaconda3\\lib\\site-packages (from trio~=0.17->selenium) (1.2.0)\n",
      "Requirement already satisfied: sortedcontainers in c:\\users\\samsung\\anaconda3\\lib\\site-packages (from trio~=0.17->selenium) (2.4.0)\n",
      "Requirement already satisfied: exceptiongroup>=1.0.0rc9 in c:\\users\\samsung\\anaconda3\\lib\\site-packages (from trio~=0.17->selenium) (1.0.1)\n",
      "Requirement already satisfied: cffi>=1.14 in c:\\users\\samsung\\anaconda3\\lib\\site-packages (from trio~=0.17->selenium) (1.15.0)\n",
      "Requirement already satisfied: pycparser in c:\\users\\samsung\\anaconda3\\lib\\site-packages (from cffi>=1.14->trio~=0.17->selenium) (2.21)\n",
      "Requirement already satisfied: wsproto>=0.14 in c:\\users\\samsung\\anaconda3\\lib\\site-packages (from trio-websocket~=0.9->selenium) (1.2.0)\n",
      "Requirement already satisfied: PySocks!=1.5.7,<2.0,>=1.5.6 in c:\\users\\samsung\\anaconda3\\lib\\site-packages (from urllib3[socks]~=1.26->selenium) (1.7.1)\n",
      "Requirement already satisfied: h11<1,>=0.9.0 in c:\\users\\samsung\\anaconda3\\lib\\site-packages (from wsproto>=0.14->trio-websocket~=0.9->selenium) (0.14.0)\n",
      "Note: you may need to restart the kernel to use updated packages.\n",
      "Requirement already satisfied: webdriver_manager in c:\\users\\samsung\\anaconda3\\lib\\site-packages (3.8.4)\n",
      "Requirement already satisfied: requests in c:\\users\\samsung\\anaconda3\\lib\\site-packages (from webdriver_manager) (2.27.1)\n",
      "Requirement already satisfied: tqdm in c:\\users\\samsung\\anaconda3\\lib\\site-packages (from webdriver_manager) (4.64.0)\n",
      "Requirement already satisfied: python-dotenv in c:\\users\\samsung\\anaconda3\\lib\\site-packages (from webdriver_manager) (0.21.0)\n",
      "Requirement already satisfied: certifi>=2017.4.17 in c:\\users\\samsung\\anaconda3\\lib\\site-packages (from requests->webdriver_manager) (2021.10.8)\n",
      "Requirement already satisfied: urllib3<1.27,>=1.21.1 in c:\\users\\samsung\\anaconda3\\lib\\site-packages (from requests->webdriver_manager) (1.26.9)\n",
      "Requirement already satisfied: idna<4,>=2.5 in c:\\users\\samsung\\anaconda3\\lib\\site-packages (from requests->webdriver_manager) (3.3)\n",
      "Requirement already satisfied: charset-normalizer~=2.0.0 in c:\\users\\samsung\\anaconda3\\lib\\site-packages (from requests->webdriver_manager) (2.0.4)\n",
      "Requirement already satisfied: colorama in c:\\users\\samsung\\anaconda3\\lib\\site-packages (from tqdm->webdriver_manager) (0.4.4)\n",
      "Note: you may need to restart the kernel to use updated packages.\n",
      "Requirement already satisfied: firebase_admin in c:\\users\\samsung\\anaconda3\\lib\\site-packages (6.0.1)\n",
      "Requirement already satisfied: google-cloud-firestore>=2.1.0 in c:\\users\\samsung\\anaconda3\\lib\\site-packages (from firebase_admin) (2.1.3)\n",
      "Requirement already satisfied: google-api-core[grpc]<3.0.0dev,>=1.22.1 in c:\\users\\samsung\\anaconda3\\lib\\site-packages (from firebase_admin) (1.25.1)\n",
      "Requirement already satisfied: google-cloud-storage>=1.37.1 in c:\\users\\samsung\\anaconda3\\lib\\site-packages (from firebase_admin) (1.41.1)\n",
      "Requirement already satisfied: cachecontrol>=0.12.6 in c:\\users\\samsung\\anaconda3\\lib\\site-packages (from firebase_admin) (0.12.11)\n",
      "Requirement already satisfied: google-api-python-client>=1.7.8 in c:\\users\\samsung\\anaconda3\\lib\\site-packages (from firebase_admin) (2.39.0)\n",
      "Requirement already satisfied: pyjwt[crypto]>=2.5.0 in c:\\users\\samsung\\anaconda3\\lib\\site-packages (from firebase_admin) (2.6.0)\n",
      "Requirement already satisfied: requests in c:\\users\\samsung\\anaconda3\\lib\\site-packages (from cachecontrol>=0.12.6->firebase_admin) (2.27.1)\n",
      "Requirement already satisfied: msgpack>=0.5.2 in c:\\users\\samsung\\anaconda3\\lib\\site-packages (from cachecontrol>=0.12.6->firebase_admin) (1.0.2)\n",
      "Requirement already satisfied: six>=1.13.0 in c:\\users\\samsung\\anaconda3\\lib\\site-packages (from google-api-core[grpc]<3.0.0dev,>=1.22.1->firebase_admin) (1.16.0)\n",
      "Requirement already satisfied: google-auth<2.0dev,>=1.21.1 in c:\\users\\samsung\\anaconda3\\lib\\site-packages (from google-api-core[grpc]<3.0.0dev,>=1.22.1->firebase_admin) (1.33.0)\n",
      "Requirement already satisfied: protobuf>=3.12.0 in c:\\users\\samsung\\anaconda3\\lib\\site-packages (from google-api-core[grpc]<3.0.0dev,>=1.22.1->firebase_admin) (3.19.1)\n",
      "Requirement already satisfied: googleapis-common-protos<2.0dev,>=1.6.0 in c:\\users\\samsung\\anaconda3\\lib\\site-packages (from google-api-core[grpc]<3.0.0dev,>=1.22.1->firebase_admin) (1.53.0)\n",
      "Requirement already satisfied: pytz in c:\\users\\samsung\\anaconda3\\lib\\site-packages (from google-api-core[grpc]<3.0.0dev,>=1.22.1->firebase_admin) (2021.3)\n",
      "Requirement already satisfied: setuptools>=40.3.0 in c:\\users\\samsung\\anaconda3\\lib\\site-packages (from google-api-core[grpc]<3.0.0dev,>=1.22.1->firebase_admin) (61.2.0)\n",
      "Requirement already satisfied: grpcio<2.0dev,>=1.29.0 in c:\\users\\samsung\\anaconda3\\lib\\site-packages (from google-api-core[grpc]<3.0.0dev,>=1.22.1->firebase_admin) (1.42.0)\n",
      "Requirement already satisfied: google-auth-httplib2>=0.1.0 in c:\\users\\samsung\\anaconda3\\lib\\site-packages (from google-api-python-client>=1.7.8->firebase_admin) (0.1.0)\n",
      "Requirement already satisfied: uritemplate<5,>=3.0.1 in c:\\users\\samsung\\anaconda3\\lib\\site-packages (from google-api-python-client>=1.7.8->firebase_admin) (4.1.1)\n",
      "Requirement already satisfied: httplib2<1dev,>=0.15.0 in c:\\users\\samsung\\anaconda3\\lib\\site-packages (from google-api-python-client>=1.7.8->firebase_admin) (0.21.0)\n",
      "Requirement already satisfied: pyasn1-modules>=0.2.1 in c:\\users\\samsung\\anaconda3\\lib\\site-packages (from google-auth<2.0dev,>=1.21.1->google-api-core[grpc]<3.0.0dev,>=1.22.1->firebase_admin) (0.2.8)\n",
      "Requirement already satisfied: rsa<5,>=3.1.4 in c:\\users\\samsung\\anaconda3\\lib\\site-packages (from google-auth<2.0dev,>=1.21.1->google-api-core[grpc]<3.0.0dev,>=1.22.1->firebase_admin) (4.7.2)\n",
      "Requirement already satisfied: cachetools<5.0,>=2.0.0 in c:\\users\\samsung\\anaconda3\\lib\\site-packages (from google-auth<2.0dev,>=1.21.1->google-api-core[grpc]<3.0.0dev,>=1.22.1->firebase_admin) (4.2.2)\n",
      "Requirement already satisfied: google-cloud-core<2.0dev,>=1.4.1 in c:\\users\\samsung\\anaconda3\\lib\\site-packages (from google-cloud-firestore>=2.1.0->firebase_admin) (1.7.1)\n",
      "Requirement already satisfied: proto-plus>=1.10.0 in c:\\users\\samsung\\anaconda3\\lib\\site-packages (from google-cloud-firestore>=2.1.0->firebase_admin) (1.22.1)\n",
      "Requirement already satisfied: packaging>=14.3 in c:\\users\\samsung\\anaconda3\\lib\\site-packages (from google-cloud-firestore>=2.1.0->firebase_admin) (21.3)\n",
      "Requirement already satisfied: google-resumable-media<3.0dev,>=1.3.0 in c:\\users\\samsung\\anaconda3\\lib\\site-packages (from google-cloud-storage>=1.37.1->firebase_admin) (1.3.1)\n",
      "Requirement already satisfied: google-crc32c<2.0dev,>=1.0 in c:\\users\\samsung\\anaconda3\\lib\\site-packages (from google-resumable-media<3.0dev,>=1.3.0->google-cloud-storage>=1.37.1->firebase_admin) (1.1.2)\n",
      "Requirement already satisfied: cffi>=1.0.0 in c:\\users\\samsung\\anaconda3\\lib\\site-packages (from google-crc32c<2.0dev,>=1.0->google-resumable-media<3.0dev,>=1.3.0->google-cloud-storage>=1.37.1->firebase_admin) (1.15.0)\n",
      "Requirement already satisfied: pycparser in c:\\users\\samsung\\anaconda3\\lib\\site-packages (from cffi>=1.0.0->google-crc32c<2.0dev,>=1.0->google-resumable-media<3.0dev,>=1.3.0->google-cloud-storage>=1.37.1->firebase_admin) (2.21)\n",
      "Requirement already satisfied: pyparsing!=3.0.0,!=3.0.1,!=3.0.2,!=3.0.3,<4,>=2.4.2 in c:\\users\\samsung\\anaconda3\\lib\\site-packages (from httplib2<1dev,>=0.15.0->google-api-python-client>=1.7.8->firebase_admin) (3.0.4)\n",
      "Requirement already satisfied: pyasn1<0.5.0,>=0.4.6 in c:\\users\\samsung\\anaconda3\\lib\\site-packages (from pyasn1-modules>=0.2.1->google-auth<2.0dev,>=1.21.1->google-api-core[grpc]<3.0.0dev,>=1.22.1->firebase_admin) (0.4.8)\n",
      "Requirement already satisfied: cryptography>=3.4.0 in c:\\users\\samsung\\anaconda3\\lib\\site-packages (from pyjwt[crypto]>=2.5.0->firebase_admin) (3.4.8)\n",
      "Requirement already satisfied: certifi>=2017.4.17 in c:\\users\\samsung\\anaconda3\\lib\\site-packages (from requests->cachecontrol>=0.12.6->firebase_admin) (2021.10.8)\n",
      "Requirement already satisfied: idna<4,>=2.5 in c:\\users\\samsung\\anaconda3\\lib\\site-packages (from requests->cachecontrol>=0.12.6->firebase_admin) (3.3)\n",
      "Requirement already satisfied: charset-normalizer~=2.0.0 in c:\\users\\samsung\\anaconda3\\lib\\site-packages (from requests->cachecontrol>=0.12.6->firebase_admin) (2.0.4)\n",
      "Requirement already satisfied: urllib3<1.27,>=1.21.1 in c:\\users\\samsung\\anaconda3\\lib\\site-packages (from requests->cachecontrol>=0.12.6->firebase_admin) (1.26.9)\n",
      "Note: you may need to restart the kernel to use updated packages.\n"
     ]
    },
    {
     "data": {
      "text/plain": [
       "<firebase_admin.App at 0x20db2b47a30>"
      ]
     },
     "execution_count": 1,
     "metadata": {},
     "output_type": "execute_result"
    }
   ],
   "source": [
    "from bs4 import BeautifulSoup\n",
    "import requests\n",
    "%pip install selenium\n",
    "%pip install webdriver_manager\n",
    "%pip install firebase_admin\n",
    "\n",
    "from selenium import webdriver\n",
    "from webdriver_manager.chrome import ChromeDriverManager\n",
    "from selenium.webdriver.chrome.service import Service\n",
    "from selenium.webdriver.common.by import By\n",
    "from selenium.webdriver.common.keys import Keys\n",
    "import time\n",
    "\n",
    "from firebase_admin import firestore\n",
    "import firebase_admin\n",
    "from firebase_admin import credentials\n",
    "\n",
    "cred = credentials.Certificate(\"<your private key>\")\n",
    "firebase_admin.initialize_app(cred)"
   ]
  },
  {
   "cell_type": "code",
   "execution_count": 17,
   "metadata": {},
   "outputs": [
    {
     "name": "stdout",
     "output_type": "stream",
     "text": [
      "                                               title      date  \\\n",
      "0                              2022년 1학기 학습동아리 선발 안내  22.03.01   \n",
      "1  2022년 K-SW스퀘어 여름방학(8주) / 가을학기(16주) 프로그램 서류심사 합...  22.03.02   \n",
      "2                       2022년 창업 액셀러레이션 참가팀 모집(~4/1)  22.03.02   \n",
      "3   2022년 SW중심대학사업단 Git-Github 기초/고급 특강 신청 안내(~3/11)  22.03.04   \n",
      "4                          2022년 1학기 학부생 TA 추가 모집 안내  22.03.04   \n",
      "\n",
      "                                                 url  \n",
      "0  https://sw7up.cbnu.ac.kr/community/notice/621d...  \n",
      "1  https://sw7up.cbnu.ac.kr/community/notice/621e...  \n",
      "2  https://sw7up.cbnu.ac.kr/community/notice/621e...  \n",
      "3  https://sw7up.cbnu.ac.kr/community/notice/6221...  \n",
      "4  https://sw7up.cbnu.ac.kr/community/notice/6221...  \n"
     ]
    }
   ],
   "source": [
    "import pandas as pd\n",
    "df = pd.DataFrame(res)\n",
    "df.to_csv('./Sw7up_Crawling_Information.csv')"
   ]
  },
  {
   "cell_type": "code",
   "execution_count": 16,
   "metadata": {},
   "outputs": [],
   "source": [
    "def saveData(data, length):\n",
    "    df = pd.DataFrame(data)\n",
    "    df.to_csv('./Sw7up_Crawling_Information.csv', mode='a')\n",
    "    \n",
    "    db = firestore.client()\n",
    "    doc_ref = db.collection(u'sw7up').document(u'%04d' % length)\n",
    "    doc_ref.set({'title': data['title'], \n",
    "                'date': data['date'],\n",
    "                'url': data['url']})\n",
    "\n",
    "def notification(data):\n",
    "    print(\"노티를 보냈습니다\")\n",
    "    print(data)"
   ]
  },
  {
   "cell_type": "code",
   "execution_count": 46,
   "metadata": {},
   "outputs": [],
   "source": [
    "def Crawling():\n",
    "    browser = webdriver.Chrome(ChromeDriverManager().install())\n",
    "    docs = pd.read_csv('./Sw7up_Crawling_Information.csv')\n",
    "    length = len(docs['title'])\n",
    "    \n",
    "    isNew = False\n",
    "    res = {'title': [], 'date': [], 'url': []}\n",
    "    \n",
    "    page = f\"https://sw7up.cbnu.ac.kr/community/notice?page=1&limit=10&sort=-createdAt\"\n",
    "    html = requests.get(page).text\n",
    "    bsObject = BeautifulSoup(html, \"html.parser\")\n",
    "\n",
    "    for link in bsObject.find_all('span', 'mb-0'):\n",
    "        title = str(link).split('>')[1].split('<')[0]\n",
    "        isNew = True\n",
    "        res['title'].append(title)\n",
    "            \n",
    "            \n",
    "    for link in bsObject.find_all('small')[2::3]:\n",
    "        res['date'].append(str(link).split('>')[1].split('.<')[0])\n",
    "        \n",
    "    time.sleep(5)\n",
    "    browser.get(page)\n",
    "    for i in range(2):\n",
    "        elem = browser.find_elements(By.CLASS_NAME, 'card')\n",
    "        time.sleep(3)\n",
    "        elem[i].click()\n",
    "        print(i)\n",
    "        time.sleep(3)\n",
    "            \n",
    "        res['url'].append(browser.current_url)\n",
    "        browser.back()\n",
    "        time.sleep(3)\n",
    "    \n",
    "    res['title'] = res['title'][:2]\n",
    "    res['date'] = res['date'][:2]\n",
    "    df = pd.DataFrame(res)\n",
    "    for i in reversed(range(len(res['title']))):\n",
    "        title = res['title'][i]\n",
    "        if title in docs['title'].to_list():\n",
    "            continue\n",
    "        \n",
    "        print(title)\n",
    "        # notification(res[i])\n",
    "        pd.DataFrame(df.iloc[i]).transpose().to_csv('./Sw7up_Crawling_Information.csv', mode='a', header=False)\n",
    "        #aveData(res[i], length)\n",
    "        length += 1"
   ]
  },
  {
   "cell_type": "code",
   "execution_count": 51,
   "metadata": {},
   "outputs": [
    {
     "name": "stderr",
     "output_type": "stream",
     "text": [
      "C:\\Users\\SAMSUNG\\AppData\\Local\\Temp\\ipykernel_24724\\710670988.py:2: DeprecationWarning: executable_path has been deprecated, please pass in a Service object\n",
      "  browser = webdriver.Chrome(ChromeDriverManager().install())\n"
     ]
    },
    {
     "name": "stdout",
     "output_type": "stream",
     "text": [
      "0\n",
      "1\n",
      "2022년 클라우드 특강 신청 안내(~12/15)\n"
     ]
    }
   ],
   "source": [
    "import pandas as pd\n",
    "Crawling()"
   ]
  },
  {
   "cell_type": "code",
   "execution_count": null,
   "metadata": {},
   "outputs": [],
   "source": [
    "while(1):\n",
    "    Crawling()\n",
    "    time.sleep(3600)"
   ]
  }
 ],
 "metadata": {
  "kernelspec": {
   "display_name": "base",
   "language": "python",
   "name": "python3"
  },
  "language_info": {
   "codemirror_mode": {
    "name": "ipython",
    "version": 3
   },
   "file_extension": ".py",
   "mimetype": "text/x-python",
   "name": "python",
   "nbconvert_exporter": "python",
   "pygments_lexer": "ipython3",
   "version": "3.9.12"
  },
  "orig_nbformat": 4,
  "vscode": {
   "interpreter": {
    "hash": "604d36363eafd9e67c1f556089da69fa54f9731189d50fdd5ef0c173bfd24ffb"
   }
  }
 },
 "nbformat": 4,
 "nbformat_minor": 2
}
