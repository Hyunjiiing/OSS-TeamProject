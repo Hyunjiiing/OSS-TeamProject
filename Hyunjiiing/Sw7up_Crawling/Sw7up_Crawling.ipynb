{
 "cells": [
  {
   "cell_type": "code",
   "execution_count": null,
   "metadata": {},
   "outputs": [],
   "source": [
    "from bs4 import BeautifulSoup\n",
    "import requests\n",
    "\n",
    "res = {'title': [], 'date': [], 'url': []}\n",
    "\n",
    "for i in range(1, 16):\n",
    "    html = requests.get(f\"https://sw7up.cbnu.ac.kr/community/notice?page={i}&limit=10&sort=-createdAt\").text\n",
    "    bsObject = BeautifulSoup(html, \"html.parser\")\n",
    "\n",
    "    for link in bsObject.find_all('span', 'mb-0'):\n",
    "        print(str(link).split('>')[1].split('<')[0])\n",
    "        res['title'].append(str(link).split('>')[1].split('<')[0])"
   ]
  },
  {
   "cell_type": "code",
   "execution_count": null,
   "metadata": {},
   "outputs": [],
   "source": [
    "from bs4 import BeautifulSoup\n",
    "import requests\n",
    "\n",
    "for i in range(1, 16):\n",
    "    html = requests.get(f\"https://sw7up.cbnu.ac.kr/community/notice?page={i}&limit=10&sort=-createdAt\").text\n",
    "    bsObject = BeautifulSoup(html, \"html.parser\")\n",
    "\n",
    "    for link in bsObject.find_all('small')[2::3]:\n",
    "        print(str(link).split('>')[1].split('.<')[0])\n",
    "        res['date'].append(str(link).split('>')[1].split('.<')[0])"
   ]
  },
  {
   "cell_type": "code",
   "execution_count": null,
   "metadata": {},
   "outputs": [],
   "source": [
    "%pip install selenium\n",
    "%pip install webdriver_manager\n",
    "%pip install firebase_admin\n",
    "\n",
    "from selenium import webdriver\n",
    "from webdriver_manager.chrome import ChromeDriverManager\n",
    "from selenium.webdriver.chrome.service import Service\n",
    "from selenium.webdriver.common.by import By\n",
    "from selenium.webdriver.common.keys import Keys\n",
    "import time"
   ]
  },
  {
   "cell_type": "code",
   "execution_count": null,
   "metadata": {},
   "outputs": [],
   "source": [
    "browser = webdriver.Chrome(ChromeDriverManager().install())\n",
    "\n",
    "for i in range(1,16):                                                                          \n",
    "    browser.get(f\"https://sw7up.cbnu.ac.kr/community/notice?page={i}&limit=10&sort=-createdAt\")\n",
    "    time.sleep(5)\n",
    "\n",
    "    for i in range(10):\n",
    "        elem = browser.find_elements(By.CLASS_NAME, 'card')\n",
    "        elem[i].click()\n",
    "        time.sleep(5)\n",
    "        \n",
    "        res['url'].append(browser.current_url)\n",
    "        browser.back()\n",
    "        time.sleep(5)"
   ]
  },
  {
   "cell_type": "code",
   "execution_count": 5,
   "metadata": {},
   "outputs": [
    {
     "data": {
      "text/plain": [
       "<firebase_admin.App at 0x28597382b80>"
      ]
     },
     "execution_count": 5,
     "metadata": {},
     "output_type": "execute_result"
    }
   ],
   "source": [
    "import firebase_admin\n",
    "from firebase_admin import credentials\n",
    "\n",
    "cred = credentials.Certificate(\"<your private key>\")\n",
    "firebase_admin.initialize_app(cred)\n"
   ]
  },
  {
   "cell_type": "code",
   "execution_count": 8,
   "metadata": {},
   "outputs": [],
   "source": [
    "res['title'] = res['title'][::-1]\n",
    "res['url'] = res['url'][::-1]\n",
    "res['date'] = res['date'][::-1]\n",
    "\n",
    "res['title'] = res['title'][2:]\n",
    "res['url'] = res['url'][2:]\n",
    "res['date'] = res['date'][2:]"
   ]
  },
  {
   "cell_type": "code",
   "execution_count": 11,
   "metadata": {},
   "outputs": [
    {
     "name": "stdout",
     "output_type": "stream",
     "text": [
      "                                                 title      date  \\\n",
      "0                                2022년 1학기 학습동아리 선발 안내  22.03.01   \n",
      "1    2022년 K-SW스퀘어 여름방학(8주) / 가을학기(16주) 프로그램 서류심사 합...  22.03.02   \n",
      "2                         2022년 창업 액셀러레이션 참가팀 모집(~4/1)  22.03.02   \n",
      "3     2022년 SW중심대학사업단 Git-Github 기초/고급 특강 신청 안내(~3/11)  22.03.04   \n",
      "4                            2022년 1학기 학부생 TA 추가 모집 안내  22.03.04   \n",
      "..                                                 ...       ...   \n",
      "143               2022학년도 2학기 산학활동참여 마일리지 장학생 선발 결과 안내  22.11.21   \n",
      "144        2022년 SW중심대학사업단 글로벌캡스톤디자인(CEDC 2022) 합격자 안내  22.11.28   \n",
      "145  예비대학생을 위한 2023학년도 입학 전 SW기초교육 '컴퓨팅 사고력 기르기' 신청 안내  22.12.08   \n",
      "146                       2023년 OSS운영보조원 모집 안내(~12/20)  22.12.08   \n",
      "147                        2022년 클라우드 특강 신청 안내(~12/15)  22.12.08   \n",
      "\n",
      "                                                   url  \n",
      "0    https://sw7up.cbnu.ac.kr/community/notice/621d...  \n",
      "1    https://sw7up.cbnu.ac.kr/community/notice/621e...  \n",
      "2    https://sw7up.cbnu.ac.kr/community/notice/621e...  \n",
      "3    https://sw7up.cbnu.ac.kr/community/notice/6221...  \n",
      "4    https://sw7up.cbnu.ac.kr/community/notice/6221...  \n",
      "..                                                 ...  \n",
      "143  https://sw7up.cbnu.ac.kr/community/notice/637b...  \n",
      "144  https://sw7up.cbnu.ac.kr/community/notice/6384...  \n",
      "145  https://sw7up.cbnu.ac.kr/community/notice/6391...  \n",
      "146  https://sw7up.cbnu.ac.kr/community/notice/6391...  \n",
      "147  https://sw7up.cbnu.ac.kr/community/notice/6391...  \n",
      "\n",
      "[148 rows x 3 columns]\n"
     ]
    }
   ],
   "source": [
    "import pandas as pd\n",
    "\n",
    "data = pd.DataFrame(res)\n",
    "print(data)\n",
    "data.to_csv('C:\\\\Users\\\\SAMSUNG\\\\Desktop\\\\crawl\\\\data.csv')         #크롤링 데이터를 csv 파일에 넣는다"
   ]
  },
  {
   "cell_type": "code",
   "execution_count": null,
   "metadata": {},
   "outputs": [],
   "source": [
    "import pandas as pd\n",
    "res = pd.read_csv('./data.csv')\n",
    "print(res)"
   ]
  },
  {
   "cell_type": "code",
   "execution_count": 13,
   "metadata": {},
   "outputs": [],
   "source": [
    "from firebase_admin import firestore\n",
    "\n",
    "db = firestore.client()\n",
    "for i in range(148):\n",
    "    doc_ref = db.collection(u'sw7up').document(u'%04d' % i)\n",
    "    doc_ref.set({'title': res['title'][i], \n",
    "                'date': res['date'][i],\n",
    "                'url': res['url'][i]})"
   ]
  }
 ],
 "metadata": {
  "kernelspec": {
   "display_name": "Python 3.9.12 ('base')",
   "language": "python",
   "name": "python3"
  },
  "language_info": {
   "codemirror_mode": {
    "name": "ipython",
    "version": 3
   },
   "file_extension": ".py",
   "mimetype": "text/x-python",
   "name": "python",
   "nbconvert_exporter": "python",
   "pygments_lexer": "ipython3",
   "version": "3.9.12"
  },
  "orig_nbformat": 4,
  "vscode": {
   "interpreter": {
    "hash": "604d36363eafd9e67c1f556089da69fa54f9731189d50fdd5ef0c173bfd24ffb"
   }
  }
 },
 "nbformat": 4,
 "nbformat_minor": 2
}
