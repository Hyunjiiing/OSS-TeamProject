{
 "cells": [
  {
   "cell_type": "code",
   "execution_count": 1,
   "metadata": {},
   "outputs": [
    {
     "name": "stdout",
     "output_type": "stream",
     "text": [
      "2022년 SW중심대학사업단 Git-Github 기초/심화 특강 신청 안내(~11/24)\n",
      "2022학년도 2학기 마일리지 장학금 제출 안내(필독★)\n",
      "2022-1기 일경험수련과정 참여신청서 제출안내\n",
      "2022년 SW중심대학사업단 글로벌캡스톤디자인(CEDC 2022) 참가 신청 안내(~11/18)\n",
      "코딩이력관리시스템 매뉴얼 다운로드\n",
      "2022년 2차 Solve-UpⓇ 프로그래밍 경진대회 참가 신청 안내(~11/23)\n",
      "2022학년도 2학기 마일리지 장학생 모집 안내 (신청일: 11/14~11/29)\n",
      "(홍보) KOSA, 미래 유망 산업 공동 직무설명회 (11/16(수),14시~,온라인)\n",
      "2022학년도 2학기 산학활동참여 마일리지 장학금 신청\n",
      "2022학년도 2학기 SW융합전공 장학생 선발 결과 안내\n"
     ]
    }
   ],
   "source": [
    "from bs4 import BeautifulSoup\n",
    "import requests\n",
    "\n",
    "res = {'title': [], 'date': [], 'url': []}\n",
    "html = requests.get(\"https://sw7up.cbnu.ac.kr/community/notice?page=1&limit=10&sort=-createdAt\").text\n",
    "bsObject = BeautifulSoup(html, \"html.parser\")\n",
    "\n",
    "for link in bsObject.find_all('span', 'mb-0'):\n",
    "    print(str(link).split('>')[1].split('<')[0])\n",
    "    res['title'].append(str(link).split('>')[1].split('<')[0])"
   ]
  },
  {
   "cell_type": "code",
   "execution_count": 2,
   "metadata": {},
   "outputs": [
    {
     "name": "stdout",
     "output_type": "stream",
     "text": [
      "22.11.11\n",
      "22.11.11\n",
      "22.11.08\n",
      "22.11.07\n",
      "22.10.26\n",
      "22.10.24\n",
      "22.08.31\n",
      "22.11.11\n",
      "22.11.10\n",
      "22.10.27\n"
     ]
    }
   ],
   "source": [
    "from bs4 import BeautifulSoup\n",
    "import requests\n",
    "\n",
    "html = requests.get(\"https://sw7up.cbnu.ac.kr/community/notice?page=1&limit=10&sort=-createdAt\").text\n",
    "bsObject = BeautifulSoup(html, \"html.parser\")\n",
    "\n",
    "for link in bsObject.find_all('small')[2::3]:\n",
    "    print(str(link).split('>')[1].split('.<')[0])\n",
    "    res['date'].append(str(link).split('>')[1].split('.<')[0])"
   ]
  },
  {
   "cell_type": "code",
   "execution_count": 3,
   "metadata": {},
   "outputs": [
    {
     "name": "stdout",
     "output_type": "stream",
     "text": [
      "Requirement already satisfied: selenium in c:\\users\\samsung\\anaconda3\\lib\\site-packages (4.6.0)\n",
      "Requirement already satisfied: trio~=0.17 in c:\\users\\samsung\\anaconda3\\lib\\site-packages (from selenium) (0.22.0)\n",
      "Requirement already satisfied: urllib3[socks]~=1.26 in c:\\users\\samsung\\anaconda3\\lib\\site-packages (from selenium) (1.26.9)\n",
      "Requirement already satisfied: trio-websocket~=0.9 in c:\\users\\samsung\\anaconda3\\lib\\site-packages (from selenium) (0.9.2)\n",
      "Requirement already satisfied: certifi>=2021.10.8 in c:\\users\\samsung\\anaconda3\\lib\\site-packages (from selenium) (2021.10.8)\n",
      "Requirement already satisfied: async-generator>=1.9 in c:\\users\\samsung\\anaconda3\\lib\\site-packages (from trio~=0.17->selenium) (1.10)\n",
      "Requirement already satisfied: idna in c:\\users\\samsung\\anaconda3\\lib\\site-packages (from trio~=0.17->selenium) (3.3)\n",
      "Requirement already satisfied: outcome in c:\\users\\samsung\\anaconda3\\lib\\site-packages (from trio~=0.17->selenium) (1.2.0)\n",
      "Requirement already satisfied: sniffio in c:\\users\\samsung\\anaconda3\\lib\\site-packages (from trio~=0.17->selenium) (1.2.0)\n",
      "Requirement already satisfied: exceptiongroup>=1.0.0rc9 in c:\\users\\samsung\\anaconda3\\lib\\site-packages (from trio~=0.17->selenium) (1.0.1)\n",
      "Requirement already satisfied: cffi>=1.14 in c:\\users\\samsung\\anaconda3\\lib\\site-packages (from trio~=0.17->selenium) (1.15.0)\n",
      "Requirement already satisfied: sortedcontainers in c:\\users\\samsung\\anaconda3\\lib\\site-packages (from trio~=0.17->selenium) (2.4.0)\n",
      "Requirement already satisfied: attrs>=19.2.0 in c:\\users\\samsung\\anaconda3\\lib\\site-packages (from trio~=0.17->selenium) (21.4.0)\n",
      "Requirement already satisfied: pycparser in c:\\users\\samsung\\anaconda3\\lib\\site-packages (from cffi>=1.14->trio~=0.17->selenium) (2.21)\n",
      "Requirement already satisfied: wsproto>=0.14 in c:\\users\\samsung\\anaconda3\\lib\\site-packages (from trio-websocket~=0.9->selenium) (1.2.0)\n",
      "Requirement already satisfied: PySocks!=1.5.7,<2.0,>=1.5.6 in c:\\users\\samsung\\anaconda3\\lib\\site-packages (from urllib3[socks]~=1.26->selenium) (1.7.1)\n",
      "Requirement already satisfied: h11<1,>=0.9.0 in c:\\users\\samsung\\anaconda3\\lib\\site-packages (from wsproto>=0.14->trio-websocket~=0.9->selenium) (0.14.0)\n",
      "Note: you may need to restart the kernel to use updated packages.\n",
      "Requirement already satisfied: webdriver_manager in c:\\users\\samsung\\anaconda3\\lib\\site-packages (3.8.4)\n",
      "Requirement already satisfied: tqdm in c:\\users\\samsung\\anaconda3\\lib\\site-packages (from webdriver_manager) (4.64.0)\n",
      "Requirement already satisfied: python-dotenv in c:\\users\\samsung\\anaconda3\\lib\\site-packages (from webdriver_manager) (0.21.0)\n",
      "Requirement already satisfied: requests in c:\\users\\samsung\\anaconda3\\lib\\site-packages (from webdriver_manager) (2.27.1)\n",
      "Requirement already satisfied: idna<4,>=2.5 in c:\\users\\samsung\\anaconda3\\lib\\site-packages (from requests->webdriver_manager) (3.3)\n",
      "Requirement already satisfied: urllib3<1.27,>=1.21.1 in c:\\users\\samsung\\anaconda3\\lib\\site-packages (from requests->webdriver_manager) (1.26.9)\n",
      "Requirement already satisfied: charset-normalizer~=2.0.0 in c:\\users\\samsung\\anaconda3\\lib\\site-packages (from requests->webdriver_manager) (2.0.4)\n",
      "Requirement already satisfied: certifi>=2017.4.17 in c:\\users\\samsung\\anaconda3\\lib\\site-packages (from requests->webdriver_manager) (2021.10.8)\n",
      "Requirement already satisfied: colorama in c:\\users\\samsung\\anaconda3\\lib\\site-packages (from tqdm->webdriver_manager) (0.4.4)\n",
      "Note: you may need to restart the kernel to use updated packages.\n",
      "Requirement already satisfied: firebase_admin in c:\\users\\samsung\\anaconda3\\lib\\site-packages (6.0.1)\n",
      "Requirement already satisfied: pyjwt[crypto]>=2.5.0 in c:\\users\\samsung\\anaconda3\\lib\\site-packages (from firebase_admin) (2.6.0)\n",
      "Requirement already satisfied: cachecontrol>=0.12.6 in c:\\users\\samsung\\anaconda3\\lib\\site-packages (from firebase_admin) (0.12.11)\n",
      "Requirement already satisfied: google-api-python-client>=1.7.8 in c:\\users\\samsung\\anaconda3\\lib\\site-packages (from firebase_admin) (2.39.0)\n",
      "Requirement already satisfied: google-cloud-storage>=1.37.1 in c:\\users\\samsung\\anaconda3\\lib\\site-packages (from firebase_admin) (1.41.1)\n",
      "Requirement already satisfied: google-cloud-firestore>=2.1.0 in c:\\users\\samsung\\anaconda3\\lib\\site-packages (from firebase_admin) (2.1.3)\n",
      "Requirement already satisfied: google-api-core[grpc]<3.0.0dev,>=1.22.1 in c:\\users\\samsung\\anaconda3\\lib\\site-packages (from firebase_admin) (1.25.1)\n",
      "Requirement already satisfied: msgpack>=0.5.2 in c:\\users\\samsung\\anaconda3\\lib\\site-packages (from cachecontrol>=0.12.6->firebase_admin) (1.0.2)\n",
      "Requirement already satisfied: requests in c:\\users\\samsung\\anaconda3\\lib\\site-packages (from cachecontrol>=0.12.6->firebase_admin) (2.27.1)\n",
      "Requirement already satisfied: googleapis-common-protos<2.0dev,>=1.6.0 in c:\\users\\samsung\\anaconda3\\lib\\site-packages (from google-api-core[grpc]<3.0.0dev,>=1.22.1->firebase_admin) (1.53.0)\n",
      "Requirement already satisfied: setuptools>=40.3.0 in c:\\users\\samsung\\anaconda3\\lib\\site-packages (from google-api-core[grpc]<3.0.0dev,>=1.22.1->firebase_admin) (61.2.0)\n",
      "Requirement already satisfied: six>=1.13.0 in c:\\users\\samsung\\anaconda3\\lib\\site-packages (from google-api-core[grpc]<3.0.0dev,>=1.22.1->firebase_admin) (1.16.0)\n",
      "Requirement already satisfied: google-auth<2.0dev,>=1.21.1 in c:\\users\\samsung\\anaconda3\\lib\\site-packages (from google-api-core[grpc]<3.0.0dev,>=1.22.1->firebase_admin) (1.33.0)\n",
      "Requirement already satisfied: protobuf>=3.12.0 in c:\\users\\samsung\\anaconda3\\lib\\site-packages (from google-api-core[grpc]<3.0.0dev,>=1.22.1->firebase_admin) (3.19.1)\n",
      "Requirement already satisfied: pytz in c:\\users\\samsung\\anaconda3\\lib\\site-packages (from google-api-core[grpc]<3.0.0dev,>=1.22.1->firebase_admin) (2021.3)\n",
      "Requirement already satisfied: grpcio<2.0dev,>=1.29.0 in c:\\users\\samsung\\anaconda3\\lib\\site-packages (from google-api-core[grpc]<3.0.0dev,>=1.22.1->firebase_admin) (1.42.0)\n",
      "Requirement already satisfied: google-auth-httplib2>=0.1.0 in c:\\users\\samsung\\anaconda3\\lib\\site-packages (from google-api-python-client>=1.7.8->firebase_admin) (0.1.0)\n",
      "Requirement already satisfied: uritemplate<5,>=3.0.1 in c:\\users\\samsung\\anaconda3\\lib\\site-packages (from google-api-python-client>=1.7.8->firebase_admin) (4.1.1)\n",
      "Requirement already satisfied: httplib2<1dev,>=0.15.0 in c:\\users\\samsung\\anaconda3\\lib\\site-packages (from google-api-python-client>=1.7.8->firebase_admin) (0.21.0)\n",
      "Requirement already satisfied: pyasn1-modules>=0.2.1 in c:\\users\\samsung\\anaconda3\\lib\\site-packages (from google-auth<2.0dev,>=1.21.1->google-api-core[grpc]<3.0.0dev,>=1.22.1->firebase_admin) (0.2.8)\n",
      "Requirement already satisfied: cachetools<5.0,>=2.0.0 in c:\\users\\samsung\\anaconda3\\lib\\site-packages (from google-auth<2.0dev,>=1.21.1->google-api-core[grpc]<3.0.0dev,>=1.22.1->firebase_admin) (4.2.2)\n",
      "Requirement already satisfied: rsa<5,>=3.1.4 in c:\\users\\samsung\\anaconda3\\lib\\site-packages (from google-auth<2.0dev,>=1.21.1->google-api-core[grpc]<3.0.0dev,>=1.22.1->firebase_admin) (4.7.2)\n",
      "Requirement already satisfied: proto-plus>=1.10.0 in c:\\users\\samsung\\anaconda3\\lib\\site-packages (from google-cloud-firestore>=2.1.0->firebase_admin) (1.22.1)\n",
      "Requirement already satisfied: packaging>=14.3 in c:\\users\\samsung\\anaconda3\\lib\\site-packages (from google-cloud-firestore>=2.1.0->firebase_admin) (21.3)\n",
      "Requirement already satisfied: google-cloud-core<2.0dev,>=1.4.1 in c:\\users\\samsung\\anaconda3\\lib\\site-packages (from google-cloud-firestore>=2.1.0->firebase_admin) (1.7.1)\n",
      "Requirement already satisfied: google-resumable-media<3.0dev,>=1.3.0 in c:\\users\\samsung\\anaconda3\\lib\\site-packages (from google-cloud-storage>=1.37.1->firebase_admin) (1.3.1)\n",
      "Requirement already satisfied: google-crc32c<2.0dev,>=1.0 in c:\\users\\samsung\\anaconda3\\lib\\site-packages (from google-resumable-media<3.0dev,>=1.3.0->google-cloud-storage>=1.37.1->firebase_admin) (1.1.2)\n",
      "Requirement already satisfied: cffi>=1.0.0 in c:\\users\\samsung\\anaconda3\\lib\\site-packages (from google-crc32c<2.0dev,>=1.0->google-resumable-media<3.0dev,>=1.3.0->google-cloud-storage>=1.37.1->firebase_admin) (1.15.0)\n",
      "Requirement already satisfied: pycparser in c:\\users\\samsung\\anaconda3\\lib\\site-packages (from cffi>=1.0.0->google-crc32c<2.0dev,>=1.0->google-resumable-media<3.0dev,>=1.3.0->google-cloud-storage>=1.37.1->firebase_admin) (2.21)\n",
      "Requirement already satisfied: pyparsing!=3.0.0,!=3.0.1,!=3.0.2,!=3.0.3,<4,>=2.4.2 in c:\\users\\samsung\\anaconda3\\lib\\site-packages (from httplib2<1dev,>=0.15.0->google-api-python-client>=1.7.8->firebase_admin) (3.0.4)\n",
      "Requirement already satisfied: pyasn1<0.5.0,>=0.4.6 in c:\\users\\samsung\\anaconda3\\lib\\site-packages (from pyasn1-modules>=0.2.1->google-auth<2.0dev,>=1.21.1->google-api-core[grpc]<3.0.0dev,>=1.22.1->firebase_admin) (0.4.8)\n",
      "Requirement already satisfied: cryptography>=3.4.0 in c:\\users\\samsung\\anaconda3\\lib\\site-packages (from pyjwt[crypto]>=2.5.0->firebase_admin) (3.4.8)\n",
      "Requirement already satisfied: idna<4,>=2.5 in c:\\users\\samsung\\anaconda3\\lib\\site-packages (from requests->cachecontrol>=0.12.6->firebase_admin) (3.3)\n",
      "Requirement already satisfied: charset-normalizer~=2.0.0 in c:\\users\\samsung\\anaconda3\\lib\\site-packages (from requests->cachecontrol>=0.12.6->firebase_admin) (2.0.4)\n",
      "Requirement already satisfied: urllib3<1.27,>=1.21.1 in c:\\users\\samsung\\anaconda3\\lib\\site-packages (from requests->cachecontrol>=0.12.6->firebase_admin) (1.26.9)\n",
      "Requirement already satisfied: certifi>=2017.4.17 in c:\\users\\samsung\\anaconda3\\lib\\site-packages (from requests->cachecontrol>=0.12.6->firebase_admin) (2021.10.8)\n",
      "Note: you may need to restart the kernel to use updated packages.\n"
     ]
    }
   ],
   "source": [
    "%pip install selenium\n",
    "%pip install webdriver_manager\n",
    "%pip install firebase_admin\n",
    "\n",
    "from selenium import webdriver\n",
    "from webdriver_manager.chrome import ChromeDriverManager\n",
    "from selenium.webdriver.chrome.service import Service\n",
    "from selenium.webdriver.common.by import By\n",
    "from selenium.webdriver.common.keys import Keys\n",
    "import time"
   ]
  },
  {
   "cell_type": "code",
   "execution_count": 6,
   "metadata": {},
   "outputs": [
    {
     "name": "stderr",
     "output_type": "stream",
     "text": [
      "C:\\Users\\SAMSUNG\\AppData\\Local\\Temp\\ipykernel_16652\\1485729119.py:1: DeprecationWarning: executable_path has been deprecated, please pass in a Service object\n",
      "  browser = webdriver.Chrome(ChromeDriverManager().install())\n"
     ]
    },
    {
     "name": "stdout",
     "output_type": "stream",
     "text": [
      "https://sw7up.cbnu.ac.kr/community/notice/636df9e59c91db44543ab74f\n",
      "https://sw7up.cbnu.ac.kr/community/notice/636dd0329c91db44543aa32e\n",
      "https://sw7up.cbnu.ac.kr/community/notice/636a0f229c91db445439e7d9\n",
      "https://sw7up.cbnu.ac.kr/community/notice/636854f6fdde24339b27af5f\n",
      "https://sw7up.cbnu.ac.kr/community/notice/6358779bfdde24339b243fbc\n",
      "https://sw7up.cbnu.ac.kr/community/notice/6355f03cfdde24339b23e49c\n",
      "https://sw7up.cbnu.ac.kr/community/notice/630ee041f952f940ce675975\n",
      "https://sw7up.cbnu.ac.kr/community/notice/636dac839c91db44543a9851\n",
      "https://sw7up.cbnu.ac.kr/community/notice/636c84179c91db44543a6386\n",
      "https://sw7up.cbnu.ac.kr/community/notice/6359c950fdde24339b249663\n"
     ]
    }
   ],
   "source": [
    "browser = webdriver.Chrome(ChromeDriverManager().install())\n",
    "browser.get(\"https://sw7up.cbnu.ac.kr/community/notice?page=1&limit=10&sort=-createdAt\")\n",
    "time.sleep(2)\n",
    "\n",
    "for i in range(10):\n",
    "    elem = browser.find_elements(By.CLASS_NAME, 'card')\n",
    "    elem[i].click()\n",
    "    time.sleep(2)\n",
    "\n",
    "    print(browser.current_url)\n",
    "    res['url'].append(browser.current_url)\n",
    "    browser.back()\n",
    "    time.sleep(2)"
   ]
  },
  {
   "cell_type": "code",
   "execution_count": 7,
   "metadata": {},
   "outputs": [
    {
     "data": {
      "text/plain": [
       "<firebase_admin.App at 0x1cab5a641c0>"
      ]
     },
     "execution_count": 7,
     "metadata": {},
     "output_type": "execute_result"
    }
   ],
   "source": [
    "import firebase_admin\n",
    "from firebase_admin import credentials\n",
    "\n",
    "cred = credentials.Certificate(\"<your private key>\")\n",
    "firebase_admin.initialize_app(cred)\n"
   ]
  },
  {
   "cell_type": "code",
   "execution_count": 10,
   "metadata": {},
   "outputs": [],
   "source": [
    "from firebase_admin import firestore\n",
    "\n",
    "db = firestore.client()\n",
    "\n",
    "for i in range(10):\n",
    "    doc_ref = db.collection(u'sw7up').document(u'link%d' % i)\n",
    "    doc_ref.set({'title': res['title'][i], \n",
    "                'date': res['date'][i],\n",
    "                'url': res['url'][i]})"
   ]
  }
 ],
 "metadata": {
  "kernelspec": {
   "display_name": "Python 3.9.12 ('base')",
   "language": "python",
   "name": "python3"
  },
  "language_info": {
   "codemirror_mode": {
    "name": "ipython",
    "version": 3
   },
   "file_extension": ".py",
   "mimetype": "text/x-python",
   "name": "python",
   "nbconvert_exporter": "python",
   "pygments_lexer": "ipython3",
   "version": "3.9.12"
  },
  "orig_nbformat": 4,
  "vscode": {
   "interpreter": {
    "hash": "604d36363eafd9e67c1f556089da69fa54f9731189d50fdd5ef0c173bfd24ffb"
   }
  }
 },
 "nbformat": 4,
 "nbformat_minor": 2
}
